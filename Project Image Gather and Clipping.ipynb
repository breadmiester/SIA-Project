{
 "cells": [
  {
   "cell_type": "code",
   "execution_count": 9,
   "id": "365312d2",
   "metadata": {},
   "outputs": [],
   "source": [
    "#---Author: Thomas Donovan / Kylie / Edward Oughton\n",
    "#---Code Purpose: Gather images to be processed, Clip those images\n",
    "#---What to add: See if there are more effective ways to gather my images\n",
    "#Initialization of all neccessary packages\n",
    "import geopandas as gpd\n",
    "from geojson import Point, Feature, FeatureCollection, dump\n",
    "from shapely.geometry import Point, Polygon\n",
    "import pandas as pd\n",
    "import sentinelsat\n",
    "from sentinelsat import SentinelAPI, read_geojson, geojson_to_wkt\n",
    "from datetime import date\n",
    "api = SentinelAPI('xtdonovanc027', '1n4Hole1nTheGround','https://scihub.copernicus.eu/dhus')"
   ]
  },
  {
   "cell_type": "code",
   "execution_count": 4,
   "id": "2f53f1d3",
   "metadata": {},
   "outputs": [],
   "source": [
    "#----------IMAGE GATHERING VIA API-------------#\n",
    "\n",
    "#------- Image Collection-------#\n",
    "#-------Make sure the GeoJsons are already cropped close----#\n",
    "\n",
    "#Grab the GeoJson for all 11 sites. )\n",
    "#Bridge --- Image Condition\n",
    "#---Near Kiev Bridges\n",
    "#Irpin:      Good\n",
    "#Ivankiv:    Good\n",
    "#Vyshgorod:  Poor\n",
    "#Slavutych:  Poor  \n",
    "#---East Ukraine Bridges\n",
    "#Baturyn:    Poor\n",
    "#---South Ukraine Bridges\n",
    "#Kobleve:    ? \n"
   ]
  },
  {
   "cell_type": "code",
   "execution_count": 5,
   "id": "15821f21",
   "metadata": {},
   "outputs": [
    {
     "data": {
      "text/plain": [
       "{'type': 'Feature',\n",
       " 'geometry': {'type': 'Polygon',\n",
       "  'coordinates': [[[30.22492, 50.50132],\n",
       "    [30.29053, 50.50132],\n",
       "    [30.29053, 50.48119],\n",
       "    [30.22492, 50.48119],\n",
       "    [30.22492, 50.50132]]]},\n",
       " 'properties': {'id': 'Irpin_Bridge'}}"
      ]
     },
     "execution_count": 5,
     "metadata": {},
     "output_type": "execute_result"
    }
   ],
   "source": [
    "irpin_geojson = {\n",
    "  \"type\": \"Feature\", \n",
    "  \"geometry\": {\n",
    "\t\"type\": \"Polygon\", \n",
    "\t\"coordinates\": [ #Geometry coordinates\n",
    "\t  [\n",
    "\t\t[ 30.22492, \n",
    "\t\t  50.50132\n",
    "\t\t],\n",
    "\t\t[30.29053,\n",
    "\t\t  50.50132\n",
    "\t\t],\n",
    "\t\t[30.29053,\n",
    "\t\t 50.48119\n",
    "\t\t],\n",
    "\t\t[ 30.22492,\n",
    "\t\t  50.48119\n",
    "\t\t],\n",
    "\t\t[30.22492,\n",
    "\t\t  50.50132\n",
    "\t\t],\n",
    "\t  ],\n",
    "\t]\n",
    "  },\n",
    "    \"properties\": {'id': 'Irpin_Bridge'}, \n",
    "}\n",
    "irpin_geojson"
   ]
  },
  {
   "cell_type": "code",
   "execution_count": 6,
   "id": "6d58c363",
   "metadata": {},
   "outputs": [
    {
     "data": {
      "text/plain": [
       "{'type': 'Feature',\n",
       " 'geometry': {'type': 'Polygon',\n",
       "  'coordinates': [[[29.89512, 50.92131],\n",
       "    [29.90746, 50.92131],\n",
       "    [29.90746, 50.91627],\n",
       "    [29.89512, 50.91627],\n",
       "    [29.89512, 50.92131]]]},\n",
       " 'properties': {'id': 'Ivankiv_Bridge'}}"
      ]
     },
     "execution_count": 6,
     "metadata": {},
     "output_type": "execute_result"
    }
   ],
   "source": [
    "ivankiv_geojson = {\n",
    "  \"type\": \"Feature\", \n",
    "  \"geometry\": {\n",
    "\t\"type\": \"Polygon\", \n",
    "\t\"coordinates\": [ #Geometry coordinates\n",
    "\t  [\n",
    "\t\t[29.89512,\n",
    "\t\t 50.92131\n",
    "\t\t],\n",
    "\t\t[29.90746,\n",
    "\t\t 50.92131\n",
    "\t\t],\n",
    "\t\t[29.90746,\n",
    "\t\t  50.91627\n",
    "\t\t],\n",
    "\t\t[29.89512,\n",
    "\t\t  50.91627\n",
    "\t\t],\n",
    "\t\t[29.89512,\n",
    "\t\t  50.92131\n",
    "\t\t],\n",
    "\t  ],\n",
    "\t]\n",
    "  },\n",
    "    \"properties\": {'id': 'Ivankiv_Bridge'}, \n",
    "}\n",
    "ivankiv_geojson\n",
    "\n"
   ]
  },
  {
   "cell_type": "code",
   "execution_count": 7,
   "id": "1be6401a",
   "metadata": {},
   "outputs": [],
   "source": [
    "#------- Image Series Tuples-------#\n",
    "#---Collects a table of before and after images to be utelized\n",
    "#('date1','date2','geojson_coordinates_or_object'),  #Example\n",
    "\n",
    "#Only running 2 until full program works, then scale\n",
    "before_image_series = [\n",
    "    ('20210901','20210922',irpin_geojson),         #Irpin Bridge \n",
    "    ('20210901','20210922',ivankiv_geojson),       #Ivankiv Bridge\n",
    "]\n",
    "\n",
    "after_image_series = [\n",
    "    ('20220315','20220414',irpin_geojson),         #Irpin Bridge \n",
    "    ('20220315','20220414',ivankiv_geojson),      #Ivankiv Bridge\n",
    "]"
   ]
  },
  {
   "cell_type": "code",
   "execution_count": 13,
   "id": "b1f45249",
   "metadata": {},
   "outputs": [
    {
     "data": {
      "application/vnd.jupyter.widget-view+json": {
       "model_id": "c8ff89e7eb1b4962b347004baee44848",
       "version_major": 2,
       "version_minor": 0
      },
      "text/plain": [
       "Downloading products:   0%|          | 0/1 [00:00<?, ?product/s]"
      ]
     },
     "metadata": {},
     "output_type": "display_data"
    },
    {
     "data": {
      "application/vnd.jupyter.widget-view+json": {
       "model_id": "042b18e4f0e54290a57d583d97b16883",
       "version_major": 2,
       "version_minor": 0
      },
      "text/plain": [
       "Downloading S2B_MSIL2A_20220505T090549_N0400_R050_T35UQR_20220505T112025.zip:   0%|          | 0.00/829M [00:0…"
      ]
     },
     "metadata": {},
     "output_type": "display_data"
    },
    {
     "data": {
      "application/vnd.jupyter.widget-view+json": {
       "model_id": "",
       "version_major": 2,
       "version_minor": 0
      },
      "text/plain": [
       "MD5 checksumming:   0%|          | 0.00/829M [00:00<?, ?B/s]"
      ]
     },
     "metadata": {},
     "output_type": "display_data"
    },
    {
     "data": {
      "application/vnd.jupyter.widget-view+json": {
       "model_id": "543b0d9adb124066b8e089b1eb5d9a41",
       "version_major": 2,
       "version_minor": 0
      },
      "text/plain": [
       "Downloading products:   0%|          | 0/1 [00:00<?, ?product/s]"
      ]
     },
     "metadata": {},
     "output_type": "display_data"
    },
    {
     "data": {
      "application/vnd.jupyter.widget-view+json": {
       "model_id": "8f06df19429243a8a95c13b3277e86ff",
       "version_major": 2,
       "version_minor": 0
      },
      "text/plain": [
       "Downloading S2B_MSIL2A_20220505T090549_N0400_R050_T35UPS_20220505T112025.zip:   0%|          | 0.00/1.17G [00:…"
      ]
     },
     "metadata": {},
     "output_type": "display_data"
    },
    {
     "data": {
      "application/vnd.jupyter.widget-view+json": {
       "model_id": "",
       "version_major": 2,
       "version_minor": 0
      },
      "text/plain": [
       "MD5 checksumming:   0%|          | 0.00/1.17G [00:00<?, ?B/s]"
      ]
     },
     "metadata": {},
     "output_type": "display_data"
    }
   ],
   "source": [
    "for image in before_image_series:  \n",
    "    footprint = geojson_to_wkt(image[2])\n",
    "    before_products = api.query(\n",
    "    footprint,\n",
    "    platformname = 'Sentinel-2',\n",
    "    date = ('20210901','20220922'), \n",
    "    cloudcoverpercentage = (0,20),\n",
    "    limit=1 \n",
    "    )\n",
    "\n",
    "    api.download_all(before_products)\n",
    "    "
   ]
  },
  {
   "cell_type": "code",
   "execution_count": null,
   "id": "03170ae8",
   "metadata": {},
   "outputs": [],
   "source": [
    "#------Skip until full run through with clipping functions.\n",
    "#for image in after_image_series: \n",
    "    footprint = geojson_to_wkt(image[2])\n",
    "    after_products = api.query(\n",
    "    footprint,\n",
    "    platformname = 'Sentinel-2',\n",
    "    date = (image[0],image[1]), \n",
    "    cloudcoverpercentage = (0,50),\n",
    "    limit=1\n",
    "    )\n",
    "    \n",
    "#    api.download_all(after_products)"
   ]
  },
  {
   "cell_type": "code",
   "execution_count": 15,
   "id": "e84bb305",
   "metadata": {},
   "outputs": [],
   "source": [
    "#----Unzip Files into our Image Downloads folder\n",
    "import os\n",
    "import zipfile\n",
    "\n",
    "all_filenames_in_folder = os.listdir() \n",
    "\n",
    "filenames_to_unzip = []\n",
    "\n",
    "for filename in all_filenames_in_folder:\n",
    "    if filename.endswith('.zip'):\n",
    "        filenames_to_unzip.append(filename)\n",
    "\n",
    "folder = 'api_downloads'\n",
    "if not os.path.exists(folder):\n",
    "    os.mkdir(folder) \n",
    "    \n",
    "for filename in filenames_to_unzip:\n",
    "    \n",
    "    # Unzip the zip file and put it in the 'unzipped' folder\n",
    "    with zipfile.ZipFile(filename, 'r') as zip_ref:\n",
    "        zip_ref.extractall(folder)"
   ]
  },
  {
   "cell_type": "code",
   "execution_count": null,
   "id": "8501fa1b",
   "metadata": {},
   "outputs": [],
   "source": [
    "#----Image Clipping----# NOT DONE"
   ]
  },
  {
   "cell_type": "code",
   "execution_count": 14,
   "id": "ab4fa90a",
   "metadata": {},
   "outputs": [],
   "source": [
    "import os\n",
    "import rasterio\n",
    "from rasterio.plot import show\n",
    "from rasterio.features import shapes\n",
    "import numpy as np\n",
    "import matplotlib.pyplot as plt"
   ]
  },
  {
   "cell_type": "code",
   "execution_count": null,
   "id": "4b186e98",
   "metadata": {},
   "outputs": [],
   "source": []
  },
  {
   "cell_type": "code",
   "execution_count": 15,
   "id": "9f91fbc9",
   "metadata": {},
   "outputs": [],
   "source": [
    "##--- Make a Loop here to clip through the GeoJsons and their collected images\n",
    "#----\n",
    "#----\n",
    "#----#!! BRING YOUR TCI FILES UP TO THE MAIN PROJECT FOLDER, IT JUST MAKES LIFE EASIER"
   ]
  },
  {
   "cell_type": "code",
   "execution_count": 16,
   "id": "62eb518a",
   "metadata": {},
   "outputs": [],
   "source": [
    "#Create List of Tuples, holding the geographic coordinates, and the image file.\n",
    "\n",
    "             \n",
    "                     # (xmin)(ymin)(xmax)(ymax)\n",
    "before_series = [ (302249,5048119,302905,5050132,'T35UQR_20220505T090549_TCI_10m.jp2','Irpin'),\n",
    "                  (298951,5092131,299074,5092131,'T35UPS_20220505T090549_TCI_10m.jp2','Ivankiv'),\n",
    "                 ]\n",
    "\n",
    "#Disabled until I can get the before series to function through clipping\n",
    "#after_series =  [ (302249,5048119,302905,5050132,'IMAGEFILE','Irpin'),\n",
    "#                  (298951,5092131,299074,5092131,'IMAGEFILE','Ivankiv'),\n",
    "#                  (vyshgorod_geojson), \n",
    "#                  (slavutych_geojson)\n",
    "            \n",
    "          \n",
    "#Irpin:      Good\n",
    "#Ivankiv:    Good\n",
    "#Vyshgorod:  Poor\n",
    "#Slavutych:  Poor\n",
    "#Peremohy:\n",
    "#---East Ukraine Bridges\n",
    "#Baturyn:\n",
    "#---South Ukraine Bridges\n",
    "#Kobleve: \n"
   ]
  },
  {
   "cell_type": "code",
   "execution_count": 18,
   "id": "2216f4a0",
   "metadata": {},
   "outputs": [
    {
     "data": {
      "text/plain": [
       "CRS.from_epsg(32635)"
      ]
     },
     "execution_count": 18,
     "metadata": {},
     "output_type": "execute_result"
    }
   ],
   "source": [
    "#Little bit of code to check the CRS of my jp2 files, since this has been the source of another bug.\n",
    "my_image = rasterio.open('T35UPS_20220505T090549_TCI_10m.jp2')\n",
    "my_image.crs"
   ]
  },
  {
   "cell_type": "code",
   "execution_count": 25,
   "id": "2a85451c",
   "metadata": {},
   "outputs": [
    {
     "ename": "ValueError",
     "evalue": "Input shapes do not overlap raster.",
     "output_type": "error",
     "traceback": [
      "\u001b[1;31m---------------------------------------------------------------------------\u001b[0m",
      "\u001b[1;31mWindowError\u001b[0m                               Traceback (most recent call last)",
      "\u001b[1;32m~\\anaconda3\\envs\\sia\\lib\\site-packages\\rasterio\\mask.py\u001b[0m in \u001b[0;36mraster_geometry_mask\u001b[1;34m(dataset, shapes, all_touched, invert, crop, pad, pad_width)\u001b[0m\n\u001b[0;32m     79\u001b[0m     \u001b[1;32mtry\u001b[0m\u001b[1;33m:\u001b[0m\u001b[1;33m\u001b[0m\u001b[1;33m\u001b[0m\u001b[0m\n\u001b[1;32m---> 80\u001b[1;33m         \u001b[0mwindow\u001b[0m \u001b[1;33m=\u001b[0m \u001b[0mgeometry_window\u001b[0m\u001b[1;33m(\u001b[0m\u001b[0mdataset\u001b[0m\u001b[1;33m,\u001b[0m \u001b[0mshapes\u001b[0m\u001b[1;33m,\u001b[0m \u001b[0mpad_x\u001b[0m\u001b[1;33m=\u001b[0m\u001b[0mpad_x\u001b[0m\u001b[1;33m,\u001b[0m \u001b[0mpad_y\u001b[0m\u001b[1;33m=\u001b[0m\u001b[0mpad_y\u001b[0m\u001b[1;33m)\u001b[0m\u001b[1;33m\u001b[0m\u001b[1;33m\u001b[0m\u001b[0m\n\u001b[0m\u001b[0;32m     81\u001b[0m \u001b[1;33m\u001b[0m\u001b[0m\n",
      "\u001b[1;32m~\\anaconda3\\envs\\sia\\lib\\site-packages\\rasterio\\features.py\u001b[0m in \u001b[0;36mgeometry_window\u001b[1;34m(dataset, shapes, pad_x, pad_y, north_up, rotated, pixel_precision, boundless)\u001b[0m\n\u001b[0;32m    466\u001b[0m     \u001b[1;32mif\u001b[0m \u001b[1;32mnot\u001b[0m \u001b[0mboundless\u001b[0m\u001b[1;33m:\u001b[0m\u001b[1;33m\u001b[0m\u001b[1;33m\u001b[0m\u001b[0m\n\u001b[1;32m--> 467\u001b[1;33m         \u001b[0mwindow\u001b[0m \u001b[1;33m=\u001b[0m \u001b[0mwindow\u001b[0m\u001b[1;33m.\u001b[0m\u001b[0mintersection\u001b[0m\u001b[1;33m(\u001b[0m\u001b[0mraster_window\u001b[0m\u001b[1;33m)\u001b[0m\u001b[1;33m\u001b[0m\u001b[1;33m\u001b[0m\u001b[0m\n\u001b[0m\u001b[0;32m    468\u001b[0m \u001b[1;33m\u001b[0m\u001b[0m\n",
      "\u001b[1;32m~\\anaconda3\\envs\\sia\\lib\\site-packages\\rasterio\\windows.py\u001b[0m in \u001b[0;36mintersection\u001b[1;34m(self, other)\u001b[0m\n\u001b[0;32m    753\u001b[0m         \"\"\"\n\u001b[1;32m--> 754\u001b[1;33m         \u001b[1;32mreturn\u001b[0m \u001b[0mintersection\u001b[0m\u001b[1;33m(\u001b[0m\u001b[1;33m[\u001b[0m\u001b[0mself\u001b[0m\u001b[1;33m,\u001b[0m \u001b[0mother\u001b[0m\u001b[1;33m]\u001b[0m\u001b[1;33m)\u001b[0m\u001b[1;33m\u001b[0m\u001b[1;33m\u001b[0m\u001b[0m\n\u001b[0m",
      "\u001b[1;32m~\\anaconda3\\envs\\sia\\lib\\site-packages\\rasterio\\windows.py\u001b[0m in \u001b[0;36mwrapper\u001b[1;34m(*args, **kwargs)\u001b[0m\n\u001b[0;32m    112\u001b[0m         \u001b[1;32mif\u001b[0m \u001b[0mlen\u001b[0m\u001b[1;33m(\u001b[0m\u001b[0margs\u001b[0m\u001b[1;33m)\u001b[0m \u001b[1;33m==\u001b[0m \u001b[1;36m1\u001b[0m \u001b[1;32mand\u001b[0m \u001b[0misinstance\u001b[0m\u001b[1;33m(\u001b[0m\u001b[0margs\u001b[0m\u001b[1;33m[\u001b[0m\u001b[1;36m0\u001b[0m\u001b[1;33m]\u001b[0m\u001b[1;33m,\u001b[0m \u001b[0mIterable\u001b[0m\u001b[1;33m)\u001b[0m\u001b[1;33m:\u001b[0m\u001b[1;33m\u001b[0m\u001b[1;33m\u001b[0m\u001b[0m\n\u001b[1;32m--> 113\u001b[1;33m             \u001b[1;32mreturn\u001b[0m \u001b[0mfunction\u001b[0m\u001b[1;33m(\u001b[0m\u001b[1;33m*\u001b[0m\u001b[0margs\u001b[0m\u001b[1;33m[\u001b[0m\u001b[1;36m0\u001b[0m\u001b[1;33m]\u001b[0m\u001b[1;33m)\u001b[0m\u001b[1;33m\u001b[0m\u001b[1;33m\u001b[0m\u001b[0m\n\u001b[0m\u001b[0;32m    114\u001b[0m         \u001b[1;32melse\u001b[0m\u001b[1;33m:\u001b[0m\u001b[1;33m\u001b[0m\u001b[1;33m\u001b[0m\u001b[0m\n",
      "\u001b[1;32m~\\anaconda3\\envs\\sia\\lib\\site-packages\\rasterio\\windows.py\u001b[0m in \u001b[0;36mintersection\u001b[1;34m(*windows)\u001b[0m\n\u001b[0;32m    215\u001b[0m     \u001b[1;32mif\u001b[0m \u001b[1;32mnot\u001b[0m \u001b[0mintersect\u001b[0m\u001b[1;33m(\u001b[0m\u001b[0mwindows\u001b[0m\u001b[1;33m)\u001b[0m\u001b[1;33m:\u001b[0m\u001b[1;33m\u001b[0m\u001b[1;33m\u001b[0m\u001b[0m\n\u001b[1;32m--> 216\u001b[1;33m         \u001b[1;32mraise\u001b[0m \u001b[0mWindowError\u001b[0m\u001b[1;33m(\u001b[0m\u001b[1;34m\"windows do not intersect\"\u001b[0m\u001b[1;33m)\u001b[0m\u001b[1;33m\u001b[0m\u001b[1;33m\u001b[0m\u001b[0m\n\u001b[0m\u001b[0;32m    217\u001b[0m \u001b[1;33m\u001b[0m\u001b[0m\n",
      "\u001b[1;31mWindowError\u001b[0m: windows do not intersect",
      "\nDuring handling of the above exception, another exception occurred:\n",
      "\u001b[1;31mValueError\u001b[0m                                Traceback (most recent call last)",
      "\u001b[1;32m~\\AppData\\Local\\Temp\\ipykernel_3512\\3336610312.py\u001b[0m in \u001b[0;36m<module>\u001b[1;34m\u001b[0m\n\u001b[0;32m     41\u001b[0m             }]\n\u001b[0;32m     42\u001b[0m     \u001b[1;32mwith\u001b[0m \u001b[0mrasterio\u001b[0m\u001b[1;33m.\u001b[0m\u001b[0mopen\u001b[0m\u001b[1;33m(\u001b[0m\u001b[0mimage\u001b[0m\u001b[1;33m[\u001b[0m\u001b[1;36m4\u001b[0m\u001b[1;33m]\u001b[0m\u001b[1;33m)\u001b[0m \u001b[1;32mas\u001b[0m \u001b[0mimg\u001b[0m\u001b[1;33m:\u001b[0m\u001b[1;33m\u001b[0m\u001b[1;33m\u001b[0m\u001b[0m\n\u001b[1;32m---> 43\u001b[1;33m         \u001b[0mclipped\u001b[0m\u001b[1;33m,\u001b[0m \u001b[0mtransform\u001b[0m \u001b[1;33m=\u001b[0m \u001b[0mmask\u001b[0m\u001b[1;33m(\u001b[0m\u001b[0mimg\u001b[0m\u001b[1;33m,\u001b[0m \u001b[0mmy_geojson\u001b[0m\u001b[1;33m,\u001b[0m \u001b[0mcrop\u001b[0m\u001b[1;33m=\u001b[0m\u001b[1;32mTrue\u001b[0m\u001b[1;33m)\u001b[0m\u001b[1;33m\u001b[0m\u001b[1;33m\u001b[0m\u001b[0m\n\u001b[0m\u001b[0;32m     44\u001b[0m \u001b[1;33m\u001b[0m\u001b[0m\n\u001b[0;32m     45\u001b[0m     \u001b[1;31m#Copy over and Update meta data\u001b[0m\u001b[1;33m\u001b[0m\u001b[1;33m\u001b[0m\u001b[1;33m\u001b[0m\u001b[0m\n",
      "\u001b[1;32m~\\anaconda3\\envs\\sia\\lib\\site-packages\\rasterio\\mask.py\u001b[0m in \u001b[0;36mmask\u001b[1;34m(dataset, shapes, all_touched, invert, nodata, filled, crop, pad, pad_width, indexes)\u001b[0m\n\u001b[0;32m    178\u001b[0m     shape_mask, transform, window = raster_geometry_mask(\n\u001b[0;32m    179\u001b[0m         \u001b[0mdataset\u001b[0m\u001b[1;33m,\u001b[0m \u001b[0mshapes\u001b[0m\u001b[1;33m,\u001b[0m \u001b[0mall_touched\u001b[0m\u001b[1;33m=\u001b[0m\u001b[0mall_touched\u001b[0m\u001b[1;33m,\u001b[0m \u001b[0minvert\u001b[0m\u001b[1;33m=\u001b[0m\u001b[0minvert\u001b[0m\u001b[1;33m,\u001b[0m \u001b[0mcrop\u001b[0m\u001b[1;33m=\u001b[0m\u001b[0mcrop\u001b[0m\u001b[1;33m,\u001b[0m\u001b[1;33m\u001b[0m\u001b[1;33m\u001b[0m\u001b[0m\n\u001b[1;32m--> 180\u001b[1;33m         pad=pad, pad_width=pad_width)\n\u001b[0m\u001b[0;32m    181\u001b[0m \u001b[1;33m\u001b[0m\u001b[0m\n\u001b[0;32m    182\u001b[0m     \u001b[1;32mif\u001b[0m \u001b[0mindexes\u001b[0m \u001b[1;32mis\u001b[0m \u001b[1;32mNone\u001b[0m\u001b[1;33m:\u001b[0m\u001b[1;33m\u001b[0m\u001b[1;33m\u001b[0m\u001b[0m\n",
      "\u001b[1;32m~\\anaconda3\\envs\\sia\\lib\\site-packages\\rasterio\\mask.py\u001b[0m in \u001b[0;36mraster_geometry_mask\u001b[1;34m(dataset, shapes, all_touched, invert, crop, pad, pad_width)\u001b[0m\n\u001b[0;32m     84\u001b[0m         \u001b[1;31m# depending on value of crop\u001b[0m\u001b[1;33m\u001b[0m\u001b[1;33m\u001b[0m\u001b[1;33m\u001b[0m\u001b[0m\n\u001b[0;32m     85\u001b[0m         \u001b[1;32mif\u001b[0m \u001b[0mcrop\u001b[0m\u001b[1;33m:\u001b[0m\u001b[1;33m\u001b[0m\u001b[1;33m\u001b[0m\u001b[0m\n\u001b[1;32m---> 86\u001b[1;33m             \u001b[1;32mraise\u001b[0m \u001b[0mValueError\u001b[0m\u001b[1;33m(\u001b[0m\u001b[1;34m'Input shapes do not overlap raster.'\u001b[0m\u001b[1;33m)\u001b[0m\u001b[1;33m\u001b[0m\u001b[1;33m\u001b[0m\u001b[0m\n\u001b[0m\u001b[0;32m     87\u001b[0m         \u001b[1;32melse\u001b[0m\u001b[1;33m:\u001b[0m\u001b[1;33m\u001b[0m\u001b[1;33m\u001b[0m\u001b[0m\n\u001b[0;32m     88\u001b[0m             warnings.warn('shapes are outside bounds of raster. '\n",
      "\u001b[1;31mValueError\u001b[0m: Input shapes do not overlap raster."
     ]
    }
   ],
   "source": [
    "from rasterio.mask import mask\n",
    "\n",
    "#Loop to clip images\n",
    "for image in before_series:\n",
    "    \n",
    "    #This opens the band from the series\n",
    "    my_image = rasterio.open(image[4])\n",
    "    band1 = my_image.read(1)\n",
    "    \n",
    "    xmin = image[0]\n",
    "    ymin = image[1]\n",
    "    xmax = image[2]\n",
    "    ymax = image[3]\n",
    "    \n",
    "    my_geojson = [{\n",
    "        \"type\": \"Polygon\", #let's define our geometry type, which as we have a square, is a polygon.\n",
    "        \"coordinates\": [ #Here are our actual geometry coordinates\n",
    "          [\n",
    "            [\n",
    "              xmin,\n",
    "              ymin\n",
    "            ],\n",
    "            [\n",
    "              xmax,\n",
    "              ymin\n",
    "            ],\n",
    "            [\n",
    "              xmax,\n",
    "              ymax\n",
    "            ],\n",
    "            [\n",
    "              xmin,\n",
    "              ymax\n",
    "            ],\n",
    "            [\n",
    "              xmin,\n",
    "              ymin\n",
    "         ], \n",
    "        ],\n",
    "       ] \n",
    "            }]\n",
    "    with rasterio.open(image[4]) as img:\n",
    "        clipped, transform = mask(img, my_geojson, crop=True)\n",
    "   \n",
    "    #Copy over and Update meta data\n",
    "    meta = my_image.meta.copy()\n",
    "    meta.update(\n",
    "        {\n",
    "\n",
    "            \"transform\": transform,\n",
    "            \"height\":clipped.shape[1],\n",
    "            \"width\":clipped.shape[2]\n",
    "        }\n",
    "    )\n",
    "\n",
    "    #Write to a .tif file\n",
    "    filename_out = '{}_clipped.tif'.format(image[5])\n",
    "    \n",
    "    with rasterio.open(filename_out, 'w', **meta) as dst:\n",
    "        dst.write(clipped)\n",
    "\n",
    "    show(clipped)\n",
    "    "
   ]
  },
  {
   "cell_type": "code",
   "execution_count": 1,
   "id": "f6faf9e2",
   "metadata": {},
   "outputs": [
    {
     "ename": "NameError",
     "evalue": "name 'after_series' is not defined",
     "output_type": "error",
     "traceback": [
      "\u001b[1;31m---------------------------------------------------------------------------\u001b[0m",
      "\u001b[1;31mNameError\u001b[0m                                 Traceback (most recent call last)",
      "\u001b[1;32m~\\AppData\\Local\\Temp\\ipykernel_3512\\4235760731.py\u001b[0m in \u001b[0;36m<module>\u001b[1;34m\u001b[0m\n\u001b[1;32m----> 1\u001b[1;33m \u001b[1;32mfor\u001b[0m \u001b[0mimage\u001b[0m \u001b[1;32min\u001b[0m \u001b[0mafter_series\u001b[0m\u001b[1;33m:\u001b[0m\u001b[1;33m\u001b[0m\u001b[1;33m\u001b[0m\u001b[0m\n\u001b[0m\u001b[0;32m      2\u001b[0m     \u001b[1;32mwith\u001b[0m \u001b[0mrasterio\u001b[0m\u001b[1;33m.\u001b[0m\u001b[0mopen\u001b[0m\u001b[1;33m(\u001b[0m\u001b[0mimage\u001b[0m\u001b[1;33m[\u001b[0m\u001b[1;36m1\u001b[0m\u001b[1;33m]\u001b[0m\u001b[1;33m)\u001b[0m \u001b[1;32mas\u001b[0m \u001b[0mimg\u001b[0m\u001b[1;33m:\u001b[0m\u001b[1;33m\u001b[0m\u001b[1;33m\u001b[0m\u001b[0m\n\u001b[0;32m      3\u001b[0m         \u001b[0mclipped\u001b[0m\u001b[1;33m,\u001b[0m \u001b[0mtransform\u001b[0m \u001b[1;33m=\u001b[0m \u001b[0mmask\u001b[0m\u001b[1;33m(\u001b[0m\u001b[0mimg\u001b[0m\u001b[1;33m,\u001b[0m \u001b[0mimage\u001b[0m\u001b[1;33m[\u001b[0m\u001b[1;36m0\u001b[0m\u001b[1;33m]\u001b[0m\u001b[1;33m,\u001b[0m \u001b[0mcrop\u001b[0m\u001b[1;33m=\u001b[0m\u001b[1;32mTrue\u001b[0m\u001b[1;33m)\u001b[0m\u001b[1;33m\u001b[0m\u001b[1;33m\u001b[0m\u001b[0m\n\u001b[0;32m      4\u001b[0m \u001b[1;33m\u001b[0m\u001b[0m\n\u001b[0;32m      5\u001b[0m     \u001b[0mshow\u001b[0m\u001b[1;33m(\u001b[0m\u001b[0mclipped\u001b[0m\u001b[1;33m)\u001b[0m\u001b[1;33m\u001b[0m\u001b[1;33m\u001b[0m\u001b[0m\n",
      "\u001b[1;31mNameError\u001b[0m: name 'after_series' is not defined"
     ]
    }
   ],
   "source": [
    "#------Not Done----------#\n",
    "for image in after_series:\n",
    "    with rasterio.open(image[1]) as img:\n",
    "        clipped, transform = mask(img, image[0], crop=True)\n",
    "\n",
    "    show(clipped)"
   ]
  },
  {
   "cell_type": "code",
   "execution_count": null,
   "id": "385027d2",
   "metadata": {},
   "outputs": [],
   "source": []
  }
 ],
 "metadata": {
  "kernelspec": {
   "display_name": "Python 3 (ipykernel)",
   "language": "python",
   "name": "python3"
  },
  "language_info": {
   "codemirror_mode": {
    "name": "ipython",
    "version": 3
   },
   "file_extension": ".py",
   "mimetype": "text/x-python",
   "name": "python",
   "nbconvert_exporter": "python",
   "pygments_lexer": "ipython3",
   "version": "3.7.12"
  }
 },
 "nbformat": 4,
 "nbformat_minor": 5
}
